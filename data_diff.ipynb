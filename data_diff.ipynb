{
 "cells": [
  {
   "cell_type": "code",
   "execution_count": null,
   "id": "733c3a99-00d0-4ee0-8b55-fc01a7a95edf",
   "metadata": {},
   "outputs": [],
   "source": [
    "import logging\n",
    "import os\n",
    "import json\n",
    "import datetime\n",
    "\n",
    "from data_diff import connect_to_table, diff_tables\n",
    "from data_diff import TableDiffer\n",
    "from itertools import islice\n",
    "\n",
    "logging.basicConfig(level=logging.INFO)"
   ]
  },
  {
   "cell_type": "code",
   "execution_count": null,
   "id": "9407b48c-23a7-4be6-a390-543dd8908234",
   "metadata": {
    "tags": []
   },
   "outputs": [],
   "source": [
    "%env REDSHIFT_HOST= ''\n",
    "%env REDSHIFT_DATABASE= ''\n",
    "%env REDSHIFT_USER= ''\n",
    "%env REDSHIFT_PASSWORD= ''\n",
    "%env REDSHIFT_SCHEMA=''\n",
    "%env REDSHIFT_TABLE=''\n",
    "# %env POSTGRES_PASSWORD=\n",
    "%env SNOWFLAKE_USER= ''\n",
    "%env SNOWFLAKE_ACCOUNT= ''\n",
    "%env SNOWFLAKE_ROLE= ''\n",
    "%env SNOWFLAKE_WAREHOUSE= ''\n",
    "%env SNOWFLAKE_DATABASE= ''\n",
    "%env SNOWFLAKE_SCHEMA= ''\n",
    "%env SNOWFLAKE_TABLE= ''"
   ]
  },
  {
   "cell_type": "code",
   "execution_count": null,
   "id": "08458786-daf5-44d0-a95b-18d8f9dcd876",
   "metadata": {},
   "outputs": [],
   "source": [
    "snowflake_config = {\"driver\": \"snowflake\",\n",
    " \"user\": os.environ[\"SNOWFLAKE_USER\"],\n",
    " \"account\": os.environ[\"SNOWFLAKE_ROLE\"],\n",
    " \"role\": os.environ[\"SNOWFLAKE_ROLE\"],\n",
    " \"warehouse\": os.environ[\"SNOWFLAKE_WAREHOUSE\"],\n",
    " \"database\": os.environ[\"SNOWFLAKE_DATABASE\"],\n",
    " \"schema\": os.environ[\"SNOWFLAKE_SCHEMA\"],\n",
    " \"authentcator\":\"externalbrowser\"\n",
    "}\n",
    "\n",
    "redshift_config = {\n",
    "    \"driver\": \"redshift\",\n",
    "    \"host\": os.environ[\"REDSHIFT_HOST\"],\n",
    "    \"database\": os.environ[\"REDSHIFT_DATABASE\"],\n",
    "    \"user\": os.environ[\"REDSHIFT_USER\"],\n",
    "    \"password\": os.environ['REDSHIFT_PASSWORD'],\n",
    "    \"port\":\"5439\"\n",
    "}\n",
    "\n"
   ]
  },
  {
   "cell_type": "code",
   "execution_count": null,
   "id": "ce316e9a-8743-4986-93e9-aedebefc86fe",
   "metadata": {},
   "outputs": [],
   "source": [
    "diff_tables?"
   ]
  },
  {
   "cell_type": "code",
   "execution_count": null,
   "id": "3195c6b0-5bfa-4c74-9eae-97b12176608f",
   "metadata": {
    "tags": []
   },
   "outputs": [],
   "source": [
    "sf_table = connect_to_table(snowflake_config,os.environ['SNOWFLAKE_TABLE'], key_column=\"id\", update_column=\"updated_at\")\n",
    "\n",
    "rs_table = connect_to_table(redshift_config, (os.environ[\"REDSHIFT_SCHEMA\"], os.environ[\"REDSHIFT_TABLE\"]), key_column=\"id\", update_column=\"updated_at\")"
   ]
  },
  {
   "cell_type": "markdown",
   "id": "7f98d342-6030-4015-90c2-d5af0db37a72",
   "metadata": {
    "tags": []
   },
   "source": [
    "### How to understand the output?            \n",
    "            ('-', columns) for items in table1 but not in table2\n",
    "            ('+', columns) for items in table2 but not in table1"
   ]
  },
  {
   "cell_type": "code",
   "execution_count": null,
   "id": "af66e890-0e78-42a4-850f-a7cad67d8449",
   "metadata": {},
   "outputs": [],
   "source": [
    "DEFAULT_BISECTION_THRESHOLD = 1024 * 25\n",
    "DEFAULT_BISECTION_FACTOR = 30"
   ]
  },
  {
   "cell_type": "code",
   "execution_count": null,
   "id": "0503adc0-440a-4c88-8cab-358b2ff5f956",
   "metadata": {},
   "outputs": [],
   "source": [
    "differ = TableDiffer(\n",
    "        bisection_factor=DEFAULT_BISECTION_FACTOR,\n",
    "        bisection_threshold=DEFAULT_BISECTION_THRESHOLD,\n",
    "        threaded=False,\n",
    "        max_threadpool_size=2,\n",
    "        debug=False,\n",
    "    )\n",
    "\n",
    "diff_iter = differ.diff_tables(sf_table, rs_table)\n",
    "diff_iter = islice(diff_iter, int(10))"
   ]
  },
  {
   "cell_type": "code",
   "execution_count": null,
   "id": "a2aee161-6e8f-4a61-bfb2-c5ceecfde76f",
   "metadata": {},
   "outputs": [],
   "source": [
    "diff = list(diff_iter)\n",
    "unique_diff_count = len({i[0] for _, i in diff})\n",
    "max_table_count = max(differ.stats[\"table1_count\"], differ.stats[\"table2_count\"])\n",
    "percent = 100 * unique_diff_count / (max_table_count or 1)\n",
    "plus = len([1 for op, _ in diff if op == \"+\"])\n",
    "minus = len([1 for op, _ in diff if op == \"-\"])\n",
    "\n",
    "json_output = {\n",
    "    \"different_rows\": len(diff),\n",
    "    \"different_percent\": percent,\n",
    "    \"different_+\": plus,\n",
    "    \"different_-\": minus,\n",
    "    \"total\": max_table_count,\n",
    "}\n",
    "print(json.dumps(json_output))"
   ]
  }
 ],
 "metadata": {
  "kernelspec": {
   "display_name": "snl-data-diff",
   "language": "python",
   "name": "snl-data-diff"
  },
  "language_info": {
   "codemirror_mode": {
    "name": "ipython",
    "version": 3
   },
   "file_extension": ".py",
   "mimetype": "text/x-python",
   "name": "python",
   "nbconvert_exporter": "python",
   "pygments_lexer": "ipython3",
   "version": "3.8.8"
  }
 },
 "nbformat": 4,
 "nbformat_minor": 5
}
